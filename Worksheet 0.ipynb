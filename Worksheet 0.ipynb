{
  "nbformat": 4,
  "nbformat_minor": 0,
  "metadata": {
    "colab": {
      "provenance": []
    },
    "kernelspec": {
      "name": "python3",
      "display_name": "Python 3"
    },
    "language_info": {
      "name": "python"
    }
  },
  "cells": [
    {
      "cell_type": "code",
      "execution_count": null,
      "metadata": {
        "id": "BkXmTE_4tntu"
      },
      "outputs": [],
      "source": [
        "#Student name: Samin Thapa\n",
        "#Student ID: 2408644\n",
        "#Worksheet 0"
      ]
    },
    {
      "cell_type": "code",
      "source": [
        "temperatures_celsius = [8.2, 17.4, 14.1, 7.9, 18.0, 13.5, 9.0, 17.8, 13.0, 8.5,\n",
        "                        16.5, 12.9, 7.7, 17.2, 13.3, 8.4, 16.7, 14.0, 9.5, 18.3,\n",
        "                        13.4, 8.1, 17.9, 14.2, 7.6, 17.0, 12.8, 8.0, 16.8, 13.7,\n",
        "                        7.8, 17.5, 13.6, 8.7, 17.1, 13.8, 9.2, 18.1, 13.9, 8.3,\n",
        "                        16.4, 12.7, 8.9, 18.2, 13.1, 7.8, 16.6, 12.5]\n",
        "\n",
        "# Task 1-1\n",
        "cold_temperatures = []\n",
        "mild_temperatures = []\n",
        "comfortable_temperatures = []\n",
        "\n",
        "# Task 1-2\n",
        "for temperature in temperatures_celsius:\n",
        "    if temperature < 10:\n",
        "        cold_temperatures.append(temperature)\n",
        "    elif 10 <= temperature < 15:\n",
        "        mild_temperatures.append(temperature)\n",
        "    elif 15 <= temperature < 20:\n",
        "        comfortable_temperatures.append(temperature)\n",
        "\n",
        "# Task 1-3\n",
        "print(\"Cold temperatures:\", cold_temperatures)\n",
        "print(\"Mild temperatures:\", mild_temperatures)\n",
        "print(\"Comfortable temperatures:\", comfortable_temperatures)\n",
        "print()\n",
        "\n",
        "# Task 2-(1,2,3)\n",
        "print(f\"It was {len(cold_temperatures)} times cold.\")\n",
        "print(f\"It was {len(mild_temperatures)} times mild.\")\n",
        "print(f\"It was {len(comfortable_temperatures)} times comfortable.\")\n",
        "print()\n",
        "\n",
        "# Task 3-(1,2,3)\n",
        "temperatures_fahrenheit = []\n",
        "\n",
        "for temperature in temperatures_celsius:\n",
        "    fahrenheit = ((temperature * 9) / 5) + 32\n",
        "    temperatures_fahrenheit.append(fahrenheit)\n",
        "\n",
        "print(\"Temperatures in Fahrenheit:\", temperatures_fahrenheit)\n",
        "print()\n",
        "\n",
        "# Task 4-1\n",
        "night_temperatures = []\n",
        "evening_temperatures = []\n",
        "day_temperatures = []\n",
        "\n",
        "# Task 4-2\n",
        "for temperature in temperatures_celsius:\n",
        "    if temperature <= 8.0:\n",
        "        night_temperatures.append(temperature)\n",
        "    elif 8.0 < temperature < 16.0:\n",
        "        evening_temperatures.append(temperature)\n",
        "    else:\n",
        "        day_temperatures.append(temperature)\n",
        "\n",
        "# Task 4-3:\n",
        "import numpy as np\n",
        "average_day_temperature = round(np.mean(day_temperatures), 2)\n",
        "\n",
        "\n",
        "print(\"Night temperatures:\", night_temperatures)\n",
        "print(\"Evening temperatures:\", evening_temperatures)\n",
        "print(\"Day temperatures:\", day_temperatures)\n",
        "print()\n",
        "\n",
        "print(f\"Average Day Temperature: {average_day_temperature}\")\n",
        "\n",
        "\n"
      ],
      "metadata": {
        "colab": {
          "base_uri": "https://localhost:8080/"
        },
        "id": "_24G8sbzuyA_",
        "outputId": "500aadab-a022-49b4-8e1e-9484f0494367"
      },
      "execution_count": null,
      "outputs": [
        {
          "output_type": "stream",
          "name": "stdout",
          "text": [
            "Cold temperatures: [8.2, 7.9, 9.0, 8.5, 7.7, 8.4, 9.5, 8.1, 7.6, 8.0, 7.8, 8.7, 9.2, 8.3, 8.9, 7.8]\n",
            "Mild temperatures: [14.1, 13.5, 13.0, 12.9, 13.3, 14.0, 13.4, 14.2, 12.8, 13.7, 13.6, 13.8, 13.9, 12.7, 13.1, 12.5]\n",
            "Comfortable temperatures: [17.4, 18.0, 17.8, 16.5, 17.2, 16.7, 18.3, 17.9, 17.0, 16.8, 17.5, 17.1, 18.1, 16.4, 18.2, 16.6]\n",
            "\n",
            "It was 16 times cold.\n",
            "It was 16 times mild.\n",
            "It was 16 times comfortable.\n",
            "\n",
            "Temperatures in Fahrenheit: [46.76, 63.32, 57.379999999999995, 46.22, 64.4, 56.3, 48.2, 64.04, 55.4, 47.3, 61.7, 55.22, 45.86, 62.959999999999994, 55.94, 47.120000000000005, 62.059999999999995, 57.2, 49.1, 64.94, 56.120000000000005, 46.58, 64.22, 57.56, 45.68, 62.6, 55.04, 46.4, 62.24, 56.66, 46.04, 63.5, 56.48, 47.66, 62.78, 56.84, 48.56, 64.58, 57.02, 46.94, 61.519999999999996, 54.86, 48.02, 64.75999999999999, 55.58, 46.04, 61.88, 54.5]\n",
            "\n",
            "Night temperatures: [7.9, 7.7, 7.6, 8.0, 7.8, 7.8]\n",
            "Evening temperatures: [8.2, 14.1, 13.5, 9.0, 13.0, 8.5, 12.9, 13.3, 8.4, 14.0, 9.5, 13.4, 8.1, 14.2, 12.8, 13.7, 13.6, 8.7, 13.8, 9.2, 13.9, 8.3, 12.7, 8.9, 13.1, 12.5]\n",
            "Day temperatures: [17.4, 18.0, 17.8, 16.5, 17.2, 16.7, 18.3, 17.9, 17.0, 16.8, 17.5, 17.1, 18.1, 16.4, 18.2, 16.6]\n",
            "\n",
            "Average Day Temperature: 17.34\n"
          ]
        }
      ]
    },
    {
      "cell_type": "code",
      "source": [
        "#Recursion\n",
        "#Task 1\n",
        "def  sum_of_nested_lists(nested_list):\n",
        "    total_sum = 0\n",
        "    for i in nested_list:\n",
        "        if isinstance(i, list):\n",
        "            total_sum += sum_of_nested_lists(i)\n",
        "        else:\n",
        "            total_sum += i\n",
        "    return total_sum\n",
        "first = sum_of_nested_lists([1,[2,3],[4,[5]]])\n",
        "second = sum_of_nested_lists([1,[2,[3,4],5],6,[7,8]])\n",
        "print(\"Sum of the first list is:\", first)\n",
        "print(\"Sum of the second list is:\", second)"
      ],
      "metadata": {
        "colab": {
          "base_uri": "https://localhost:8080/"
        },
        "id": "7n6Vo-ECvVyv",
        "outputId": "35424156-2ea0-467c-a1d9-df95470d60f5"
      },
      "execution_count": 1,
      "outputs": [
        {
          "output_type": "stream",
          "name": "stdout",
          "text": [
            "Sum of the first list is: 15\n",
            "Sum of the second list is: 36\n"
          ]
        }
      ]
    },
    {
      "cell_type": "code",
      "source": [
        "#Task 2\n",
        "def generate_permutations(s):\n",
        "    if len(s) == 1:\n",
        "        return [s]\n",
        "    permutation = []\n",
        "    for i in range(len(s)):\n",
        "        char = s[i]\n",
        "        remaning_chars = s[:i]+s[i+1:]\n",
        "        for j in generate_permutations(remaning_chars):\n",
        "            permutation.append(char+j)\n",
        "    return permutation\n",
        "\n",
        "print(generate_permutations(\"abc\"))\n",
        "print(generate_permutations(\"aab\"))"
      ],
      "metadata": {
        "colab": {
          "base_uri": "https://localhost:8080/"
        },
        "id": "5MnwfdzGwz-6",
        "outputId": "02755b50-efe0-4a3e-e412-7a1dacdedc7c"
      },
      "execution_count": null,
      "outputs": [
        {
          "output_type": "stream",
          "name": "stdout",
          "text": [
            "['abc', 'acb', 'bac', 'bca', 'cab', 'cba']\n",
            "['aab', 'aba', 'aab', 'aba', 'baa', 'baa']\n"
          ]
        }
      ]
    },
    {
      "cell_type": "code",
      "source": [
        "#Task 3\n",
        "directory_structure={\n",
        " \"file1.txt\":200,\n",
        " \"file2.txt\":300,\n",
        " \"subdir1\":{\n",
        " \"file3.txt\":400,\n",
        " \"file4.txt\":100\n",
        " },\n",
        " \"subdir2\":{\n",
        " \"subsubdir1\":{\n",
        " \"file5.txt\":250\n",
        " },\n",
        " \"file6.txt\": 150\n",
        " }\n",
        "}\n",
        "\n",
        "def  calculate_directory_size(directory):\n",
        "    total_size = 0\n",
        "    for i in directory.values():\n",
        "        if isinstance(i, dict):\n",
        "            total_size += calculate_directory_size(i)\n",
        "        else:\n",
        "            total_size += i\n",
        "    return total_size\n",
        "\n",
        "total_directory_size = calculate_directory_size(directory_structure)\n",
        "print(f\"Total size of directory structure is {total_directory_size} KB\")"
      ],
      "metadata": {
        "colab": {
          "base_uri": "https://localhost:8080/"
        },
        "id": "rEPwFLj3xvMY",
        "outputId": "504efed4-0e4d-47f6-b506-8e9a85446b8e"
      },
      "execution_count": 2,
      "outputs": [
        {
          "output_type": "stream",
          "name": "stdout",
          "text": [
            "Total size of directory structure is 1400 KB\n"
          ]
        }
      ]
    },
    {
      "cell_type": "code",
      "source": [
        "#Dynamic Programming\n",
        "#Task 1\n",
        "coin = [1,2,5]\n",
        "amount = 11\n",
        "def min_coins(coins, amount):\n",
        "    coins = sorted(coins, reverse=True)\n",
        "    if amount == 0:\n",
        "        return 0\n",
        "    dp = [float('inf')] * (amount +1)\n",
        "    dp[0] = 0\n",
        "    for i in range(1, amount+1):\n",
        "        for coin in coins:\n",
        "            if i - coin >= 0:\n",
        "                dp[i] = min(dp[i], dp[i - coin] + 1)\n",
        "    if dp[amount] > 0:\n",
        "        return dp[amount]\n",
        "    else:\n",
        "        return -1\n",
        "\n",
        "min_coins(coin, amount)\n",
        "print(f\"Minimum number of coins needed to make {amount} is {min_coins(coin,amount)}\")\n",
        "\n"
      ],
      "metadata": {
        "colab": {
          "base_uri": "https://localhost:8080/"
        },
        "id": "lBnda58cyRQt",
        "outputId": "53dd9aa6-e013-4d5d-a3b0-3396510c538e"
      },
      "execution_count": 5,
      "outputs": [
        {
          "output_type": "stream",
          "name": "stdout",
          "text": [
            "Minimum number of coins needed to make 11 is 3\n"
          ]
        }
      ]
    },
    {
      "cell_type": "code",
      "source": [
        "#Task2\n",
        "def longest_common_subsequence(s1,s2):\n",
        "    m, n = len(s1), len(s2)\n",
        "    dp = []\n",
        "    for i in range(m + 1):\n",
        "        dp.append([0] * (n + 1))\n",
        "\n",
        "    for i in range(m + 1):\n",
        "        for j in range(n + 1):\n",
        "            if i == 0 or j == 0:\n",
        "                dp[i][j]=0\n",
        "            elif s1[i - 1] == s2[j - 1]:\n",
        "                dp[i][j] = dp[i - 1][j - 1]+1\n",
        "            else:\n",
        "                dp[i][j] = max(dp[i - 1][j], dp[i][j - 1])\n",
        "    return dp[m][n]\n",
        "s1 = \"abcde\"\n",
        "s2 = \"ace\"\n",
        "result = longest_common_subsequence(s1,s2)\n",
        "print(f\"Longest common subsequence of {s1} and {s2} is {result}\")"
      ],
      "metadata": {
        "colab": {
          "base_uri": "https://localhost:8080/"
        },
        "id": "S8fylOH6zOEw",
        "outputId": "94edf12b-f9e4-4847-ca35-335cb970c093"
      },
      "execution_count": 6,
      "outputs": [
        {
          "output_type": "stream",
          "name": "stdout",
          "text": [
            "Longest common subsequence of abcde and ace is 3\n"
          ]
        }
      ]
    },
    {
      "cell_type": "code",
      "source": [
        "#Task3\n",
        "def knapsack(weights, values, capacity):\n",
        "    n = len(weights)\n",
        "    dp = [[0] * (capacity + 1) for _ in range(n + 1)]\n",
        "\n",
        "    for i in range(1, n + 1):\n",
        "        for w in range(1, capacity + 1):\n",
        "            if weights[i - 1] <= w:\n",
        "                dp[i][w] = max(values[i - 1] + dp[i - 1][w - weights[i - 1]], dp[i - 1][w])\n",
        "            else:\n",
        "                dp[i][w] = dp[i - 1][w]\n",
        "\n",
        "    return dp[n][capacity]\n",
        "capacity = 7\n",
        "result = knapsack([1, 3, 4, 5], [1, 4, 5, 7], capacity)\n",
        "print(f\"Maximum capacity that can be achieved within {capacity} is {result}\")"
      ],
      "metadata": {
        "colab": {
          "base_uri": "https://localhost:8080/"
        },
        "id": "7ajtrvrEzae5",
        "outputId": "1af286f7-f674-40ca-c53d-3607dc315cc0"
      },
      "execution_count": 7,
      "outputs": [
        {
          "output_type": "stream",
          "name": "stdout",
          "text": [
            "Maximum capacity that can be achieved within 7 is 9\n"
          ]
        }
      ]
    }
  ]
}